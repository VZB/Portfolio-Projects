{
 "cells": [
  {
   "cell_type": "markdown",
   "id": "da056832-7fb8-411b-8837-0fb09ddc1226",
   "metadata": {},
   "source": [
    "# Real State Data Analysis\n",
    "\n",
    "In this file we will be doing an Exploratory Data Analysis on the dataset \"USA House Prices\" uploaded to kaggle by Fırat Özcan.\n",
    "The dataset can be found on the link: https://www.kaggle.com/datasets/fratzcan/usa-house-prices\n",
    "\n",
    "Questions we would like to answer:\n",
    "- What is the distribution of the house prices?\n",
    "- How many houses have a price that is a lot higher or lower than the rest (outliers)?\n",
    "- What are the top 5 cities with the highest house prices? And the top five cities with the most houses?\n",
    "- How do property characteristics like bedrooms, bathrooms, and sqft_living correlate with price?\n",
    "- How does waterfront, view, and condition impacts the price?\n",
    "\n",
    "Here are the steps we will be going through in this analysis:\n",
    "1. [Importing Libraries](#imp)\n",
    "2. [Loading Dataset](#load)\n",
    "3. [Data Understanding](#data-und)\n",
    "4. [Data Cleaning](#data-clean)\n",
    "5. [Exploratory Data Analysis](#eda)\n",
    "6. [Feture Engineering](#feat-eng)\n",
    "7. [Summary and Insights](#summary)"
   ]
  },
  {
   "cell_type": "markdown",
   "id": "cad758bf-c836-438d-8074-2bd42f582b28",
   "metadata": {},
   "source": [
    "## Importing Libraries <a name=\"imp\"></a>"
   ]
  },
  {
   "cell_type": "code",
   "execution_count": 1,
   "id": "296cf11e-a399-4f67-bb9f-d40b0600fdcb",
   "metadata": {},
   "outputs": [],
   "source": [
    "# Importing the essential Python libraries we'll need.\n",
    "import pandas as pd\n",
    "import numpy as np\n",
    "import matplotlib.pyplot as plt\n",
    "import seaborn as sns\n",
    "import os"
   ]
  },
  {
   "cell_type": "markdown",
   "id": "d5871e77-39ba-4ce8-9585-6261738138fe",
   "metadata": {},
   "source": [
    "## Loading Dataset <a name=\"load\"></a>"
   ]
  },
  {
   "cell_type": "code",
   "execution_count": 2,
   "id": "dc42ba7e-89d0-4fb4-a4d2-75fd09ab9bb2",
   "metadata": {},
   "outputs": [],
   "source": [
    "# Load the dataset into a Pandas DataFrame.\n",
    "file_path = r\"C:\\Users\\Vitoria\\OneDrive\\Estudos e Profissão\\Data Analysis (OneDrive)\\Learning_Projects\\usa_house_prices.csv\"\n",
    "df = pd.read_csv(file_path)"
   ]
  },
  {
   "cell_type": "markdown",
   "id": "61e171af-515d-4043-ac66-7ba29a63acd8",
   "metadata": {},
   "source": [
    "## Data Understanding <a name=\"data-und\"></a>\n",
    "Getting a basic overview of the dataset.\n",
    "\n",
    "Checking data types, column names and meanings, data volume, and getting a sample fo the data."
   ]
  },
  {
   "cell_type": "code",
   "execution_count": 3,
   "id": "0d89814f-198a-4bf6-98ee-06ec39890a52",
   "metadata": {},
   "outputs": [
    {
     "name": "stdout",
     "output_type": "stream",
     "text": [
      "<class 'pandas.core.frame.DataFrame'>\n",
      "RangeIndex: 4140 entries, 0 to 4139\n",
      "Data columns (total 18 columns):\n",
      " #   Column         Non-Null Count  Dtype  \n",
      "---  ------         --------------  -----  \n",
      " 0   date           4140 non-null   object \n",
      " 1   price          4140 non-null   float64\n",
      " 2   bedrooms       4140 non-null   float64\n",
      " 3   bathrooms      4140 non-null   float64\n",
      " 4   sqft_living    4140 non-null   int64  \n",
      " 5   sqft_lot       4140 non-null   int64  \n",
      " 6   floors         4140 non-null   float64\n",
      " 7   waterfront     4140 non-null   int64  \n",
      " 8   view           4140 non-null   int64  \n",
      " 9   condition      4140 non-null   int64  \n",
      " 10  sqft_above     4140 non-null   int64  \n",
      " 11  sqft_basement  4140 non-null   int64  \n",
      " 12  yr_built       4140 non-null   int64  \n",
      " 13  yr_renovated   4140 non-null   int64  \n",
      " 14  street         4140 non-null   object \n",
      " 15  city           4140 non-null   object \n",
      " 16  statezip       4140 non-null   object \n",
      " 17  country        4140 non-null   object \n",
      "dtypes: float64(4), int64(9), object(5)\n",
      "memory usage: 582.3+ KB\n"
     ]
    }
   ],
   "source": [
    "# Get a summary of the data information\n",
    "df.info()"
   ]
  },
  {
   "cell_type": "code",
   "execution_count": 4,
   "id": "0f481767-7593-40a8-bc11-feb8074cab0e",
   "metadata": {},
   "outputs": [
    {
     "data": {
      "text/html": [
       "<div>\n",
       "<style scoped>\n",
       "    .dataframe tbody tr th:only-of-type {\n",
       "        vertical-align: middle;\n",
       "    }\n",
       "\n",
       "    .dataframe tbody tr th {\n",
       "        vertical-align: top;\n",
       "    }\n",
       "\n",
       "    .dataframe thead th {\n",
       "        text-align: right;\n",
       "    }\n",
       "</style>\n",
       "<table border=\"1\" class=\"dataframe\">\n",
       "  <thead>\n",
       "    <tr style=\"text-align: right;\">\n",
       "      <th></th>\n",
       "      <th>date</th>\n",
       "      <th>price</th>\n",
       "      <th>bedrooms</th>\n",
       "      <th>bathrooms</th>\n",
       "      <th>sqft_living</th>\n",
       "      <th>sqft_lot</th>\n",
       "      <th>floors</th>\n",
       "      <th>waterfront</th>\n",
       "      <th>view</th>\n",
       "      <th>condition</th>\n",
       "      <th>sqft_above</th>\n",
       "      <th>sqft_basement</th>\n",
       "      <th>yr_built</th>\n",
       "      <th>yr_renovated</th>\n",
       "      <th>street</th>\n",
       "      <th>city</th>\n",
       "      <th>statezip</th>\n",
       "      <th>country</th>\n",
       "    </tr>\n",
       "  </thead>\n",
       "  <tbody>\n",
       "    <tr>\n",
       "      <th>0</th>\n",
       "      <td>2014-05-09 00:00:00</td>\n",
       "      <td>376000.0</td>\n",
       "      <td>3.0</td>\n",
       "      <td>2.00</td>\n",
       "      <td>1340</td>\n",
       "      <td>1384</td>\n",
       "      <td>3.0</td>\n",
       "      <td>0</td>\n",
       "      <td>0</td>\n",
       "      <td>3</td>\n",
       "      <td>1340</td>\n",
       "      <td>0</td>\n",
       "      <td>2008</td>\n",
       "      <td>0</td>\n",
       "      <td>9245-9249 Fremont Ave N</td>\n",
       "      <td>Seattle</td>\n",
       "      <td>WA 98103</td>\n",
       "      <td>USA</td>\n",
       "    </tr>\n",
       "    <tr>\n",
       "      <th>1</th>\n",
       "      <td>2014-05-09 00:00:00</td>\n",
       "      <td>800000.0</td>\n",
       "      <td>4.0</td>\n",
       "      <td>3.25</td>\n",
       "      <td>3540</td>\n",
       "      <td>159430</td>\n",
       "      <td>2.0</td>\n",
       "      <td>0</td>\n",
       "      <td>0</td>\n",
       "      <td>3</td>\n",
       "      <td>3540</td>\n",
       "      <td>0</td>\n",
       "      <td>2007</td>\n",
       "      <td>0</td>\n",
       "      <td>33001 NE 24th St</td>\n",
       "      <td>Carnation</td>\n",
       "      <td>WA 98014</td>\n",
       "      <td>USA</td>\n",
       "    </tr>\n",
       "    <tr>\n",
       "      <th>2</th>\n",
       "      <td>2014-05-09 00:00:00</td>\n",
       "      <td>2238888.0</td>\n",
       "      <td>5.0</td>\n",
       "      <td>6.50</td>\n",
       "      <td>7270</td>\n",
       "      <td>130017</td>\n",
       "      <td>2.0</td>\n",
       "      <td>0</td>\n",
       "      <td>0</td>\n",
       "      <td>3</td>\n",
       "      <td>6420</td>\n",
       "      <td>850</td>\n",
       "      <td>2010</td>\n",
       "      <td>0</td>\n",
       "      <td>7070 270th Pl SE</td>\n",
       "      <td>Issaquah</td>\n",
       "      <td>WA 98029</td>\n",
       "      <td>USA</td>\n",
       "    </tr>\n",
       "    <tr>\n",
       "      <th>3</th>\n",
       "      <td>2014-05-09 00:00:00</td>\n",
       "      <td>324000.0</td>\n",
       "      <td>3.0</td>\n",
       "      <td>2.25</td>\n",
       "      <td>998</td>\n",
       "      <td>904</td>\n",
       "      <td>2.0</td>\n",
       "      <td>0</td>\n",
       "      <td>0</td>\n",
       "      <td>3</td>\n",
       "      <td>798</td>\n",
       "      <td>200</td>\n",
       "      <td>2007</td>\n",
       "      <td>0</td>\n",
       "      <td>820 NW 95th St</td>\n",
       "      <td>Seattle</td>\n",
       "      <td>WA 98117</td>\n",
       "      <td>USA</td>\n",
       "    </tr>\n",
       "    <tr>\n",
       "      <th>4</th>\n",
       "      <td>2014-05-10 00:00:00</td>\n",
       "      <td>549900.0</td>\n",
       "      <td>5.0</td>\n",
       "      <td>2.75</td>\n",
       "      <td>3060</td>\n",
       "      <td>7015</td>\n",
       "      <td>1.0</td>\n",
       "      <td>0</td>\n",
       "      <td>0</td>\n",
       "      <td>5</td>\n",
       "      <td>1600</td>\n",
       "      <td>1460</td>\n",
       "      <td>1979</td>\n",
       "      <td>0</td>\n",
       "      <td>10834 31st Ave SW</td>\n",
       "      <td>Seattle</td>\n",
       "      <td>WA 98146</td>\n",
       "      <td>USA</td>\n",
       "    </tr>\n",
       "  </tbody>\n",
       "</table>\n",
       "</div>"
      ],
      "text/plain": [
       "                  date      price  bedrooms  bathrooms  sqft_living  sqft_lot  \\\n",
       "0  2014-05-09 00:00:00   376000.0       3.0       2.00         1340      1384   \n",
       "1  2014-05-09 00:00:00   800000.0       4.0       3.25         3540    159430   \n",
       "2  2014-05-09 00:00:00  2238888.0       5.0       6.50         7270    130017   \n",
       "3  2014-05-09 00:00:00   324000.0       3.0       2.25          998       904   \n",
       "4  2014-05-10 00:00:00   549900.0       5.0       2.75         3060      7015   \n",
       "\n",
       "   floors  waterfront  view  condition  sqft_above  sqft_basement  yr_built  \\\n",
       "0     3.0           0     0          3        1340              0      2008   \n",
       "1     2.0           0     0          3        3540              0      2007   \n",
       "2     2.0           0     0          3        6420            850      2010   \n",
       "3     2.0           0     0          3         798            200      2007   \n",
       "4     1.0           0     0          5        1600           1460      1979   \n",
       "\n",
       "   yr_renovated                   street       city  statezip country  \n",
       "0             0  9245-9249 Fremont Ave N    Seattle  WA 98103     USA  \n",
       "1             0         33001 NE 24th St  Carnation  WA 98014     USA  \n",
       "2             0         7070 270th Pl SE   Issaquah  WA 98029     USA  \n",
       "3             0           820 NW 95th St    Seattle  WA 98117     USA  \n",
       "4             0        10834 31st Ave SW    Seattle  WA 98146     USA  "
      ]
     },
     "execution_count": 4,
     "metadata": {},
     "output_type": "execute_result"
    }
   ],
   "source": [
    "# View the first 5 rows\n",
    "df.head()"
   ]
  },
  {
   "cell_type": "markdown",
   "id": "8123f6fb-70d6-4968-960e-e14262adce63",
   "metadata": {},
   "source": [
    "## Data Cleaning <a name=\"data-clean\"></a>\n",
    "Checking for missing values, duplicates, and incorrect data."
   ]
  },
  {
   "cell_type": "code",
   "execution_count": 5,
   "id": "1646e01a-0844-4059-b905-08727ca10742",
   "metadata": {},
   "outputs": [
    {
     "data": {
      "text/plain": [
       "date             0\n",
       "price            0\n",
       "bedrooms         0\n",
       "bathrooms        0\n",
       "sqft_living      0\n",
       "sqft_lot         0\n",
       "floors           0\n",
       "waterfront       0\n",
       "view             0\n",
       "condition        0\n",
       "sqft_above       0\n",
       "sqft_basement    0\n",
       "yr_built         0\n",
       "yr_renovated     0\n",
       "street           0\n",
       "city             0\n",
       "statezip         0\n",
       "country          0\n",
       "dtype: int64"
      ]
     },
     "execution_count": 5,
     "metadata": {},
     "output_type": "execute_result"
    }
   ],
   "source": [
    "# Check for missing values\n",
    "df.isnull().sum()"
   ]
  },
  {
   "cell_type": "code",
   "execution_count": 6,
   "id": "e6d49310-d72c-4a78-a0a5-ad3153cd471c",
   "metadata": {},
   "outputs": [
    {
     "data": {
      "text/plain": [
       "date                0\n",
       "price              49\n",
       "bedrooms            2\n",
       "bathrooms           2\n",
       "sqft_living         0\n",
       "sqft_lot            0\n",
       "floors              0\n",
       "waterfront       4109\n",
       "view             3722\n",
       "condition           0\n",
       "sqft_above          0\n",
       "sqft_basement    2476\n",
       "yr_built            0\n",
       "yr_renovated     2462\n",
       "street              0\n",
       "city                0\n",
       "statezip            0\n",
       "country             0\n",
       "dtype: int64"
      ]
     },
     "execution_count": 6,
     "metadata": {},
     "output_type": "execute_result"
    }
   ],
   "source": [
    "# Check for values equal to 0\n",
    "(df == 0).sum()"
   ]
  },
  {
   "cell_type": "code",
   "execution_count": 36,
   "id": "0a3b8b6c-fbf4-4236-8035-3f3de1d29333",
   "metadata": {},
   "outputs": [
    {
     "data": {
      "text/html": [
       "<div>\n",
       "<style scoped>\n",
       "    .dataframe tbody tr th:only-of-type {\n",
       "        vertical-align: middle;\n",
       "    }\n",
       "\n",
       "    .dataframe tbody tr th {\n",
       "        vertical-align: top;\n",
       "    }\n",
       "\n",
       "    .dataframe thead th {\n",
       "        text-align: right;\n",
       "    }\n",
       "</style>\n",
       "<table border=\"1\" class=\"dataframe\">\n",
       "  <thead>\n",
       "    <tr style=\"text-align: right;\">\n",
       "      <th></th>\n",
       "      <th>price</th>\n",
       "      <th>bedrooms</th>\n",
       "      <th>bathrooms</th>\n",
       "      <th>sqft_living</th>\n",
       "      <th>sqft_lot</th>\n",
       "      <th>floors</th>\n",
       "      <th>waterfront</th>\n",
       "      <th>view</th>\n",
       "      <th>condition</th>\n",
       "      <th>yr_built</th>\n",
       "      <th>city</th>\n",
       "      <th>price_bins</th>\n",
       "    </tr>\n",
       "  </thead>\n",
       "  <tbody>\n",
       "  </tbody>\n",
       "</table>\n",
       "</div>"
      ],
      "text/plain": [
       "Empty DataFrame\n",
       "Columns: [price, bedrooms, bathrooms, sqft_living, sqft_lot, floors, waterfront, view, condition, yr_built, city, price_bins]\n",
       "Index: []"
      ]
     },
     "execution_count": 36,
     "metadata": {},
     "output_type": "execute_result"
    }
   ],
   "source": [
    "# Further look into the rows with price, bedrooms, and bathrooms equal to zero.\n",
    "df[df['price'] == 0].head()"
   ]
  },
  {
   "cell_type": "code",
   "execution_count": 8,
   "id": "6d9ae558-b48f-466f-b4f9-3aa151c291cc",
   "metadata": {},
   "outputs": [
    {
     "data": {
      "text/html": [
       "<div>\n",
       "<style scoped>\n",
       "    .dataframe tbody tr th:only-of-type {\n",
       "        vertical-align: middle;\n",
       "    }\n",
       "\n",
       "    .dataframe tbody tr th {\n",
       "        vertical-align: top;\n",
       "    }\n",
       "\n",
       "    .dataframe thead th {\n",
       "        text-align: right;\n",
       "    }\n",
       "</style>\n",
       "<table border=\"1\" class=\"dataframe\">\n",
       "  <thead>\n",
       "    <tr style=\"text-align: right;\">\n",
       "      <th></th>\n",
       "      <th>date</th>\n",
       "      <th>price</th>\n",
       "      <th>bedrooms</th>\n",
       "      <th>bathrooms</th>\n",
       "      <th>sqft_living</th>\n",
       "      <th>sqft_lot</th>\n",
       "      <th>floors</th>\n",
       "      <th>waterfront</th>\n",
       "      <th>view</th>\n",
       "      <th>condition</th>\n",
       "      <th>sqft_above</th>\n",
       "      <th>sqft_basement</th>\n",
       "      <th>yr_built</th>\n",
       "      <th>yr_renovated</th>\n",
       "      <th>street</th>\n",
       "      <th>city</th>\n",
       "      <th>statezip</th>\n",
       "      <th>country</th>\n",
       "    </tr>\n",
       "  </thead>\n",
       "  <tbody>\n",
       "    <tr>\n",
       "      <th>1905</th>\n",
       "      <td>2014-06-12 00:00:00</td>\n",
       "      <td>1095000.0</td>\n",
       "      <td>0.0</td>\n",
       "      <td>0.0</td>\n",
       "      <td>3064</td>\n",
       "      <td>4764</td>\n",
       "      <td>3.5</td>\n",
       "      <td>0</td>\n",
       "      <td>2</td>\n",
       "      <td>3</td>\n",
       "      <td>3064</td>\n",
       "      <td>0</td>\n",
       "      <td>1990</td>\n",
       "      <td>2009</td>\n",
       "      <td>814 E Howe St</td>\n",
       "      <td>Seattle</td>\n",
       "      <td>WA 98102</td>\n",
       "      <td>USA</td>\n",
       "    </tr>\n",
       "    <tr>\n",
       "      <th>2749</th>\n",
       "      <td>2014-06-24 00:00:00</td>\n",
       "      <td>1295648.0</td>\n",
       "      <td>0.0</td>\n",
       "      <td>0.0</td>\n",
       "      <td>4810</td>\n",
       "      <td>28008</td>\n",
       "      <td>2.0</td>\n",
       "      <td>0</td>\n",
       "      <td>0</td>\n",
       "      <td>3</td>\n",
       "      <td>4810</td>\n",
       "      <td>0</td>\n",
       "      <td>1990</td>\n",
       "      <td>2009</td>\n",
       "      <td>20418 NE 64th Pl</td>\n",
       "      <td>Redmond</td>\n",
       "      <td>WA 98053</td>\n",
       "      <td>USA</td>\n",
       "    </tr>\n",
       "  </tbody>\n",
       "</table>\n",
       "</div>"
      ],
      "text/plain": [
       "                     date      price  bedrooms  bathrooms  sqft_living  \\\n",
       "1905  2014-06-12 00:00:00  1095000.0       0.0        0.0         3064   \n",
       "2749  2014-06-24 00:00:00  1295648.0       0.0        0.0         4810   \n",
       "\n",
       "      sqft_lot  floors  waterfront  view  condition  sqft_above  \\\n",
       "1905      4764     3.5           0     2          3        3064   \n",
       "2749     28008     2.0           0     0          3        4810   \n",
       "\n",
       "      sqft_basement  yr_built  yr_renovated            street     city  \\\n",
       "1905              0      1990          2009     814 E Howe St  Seattle   \n",
       "2749              0      1990          2009  20418 NE 64th Pl  Redmond   \n",
       "\n",
       "      statezip country  \n",
       "1905  WA 98102     USA  \n",
       "2749  WA 98053     USA  "
      ]
     },
     "execution_count": 8,
     "metadata": {},
     "output_type": "execute_result"
    }
   ],
   "source": [
    "df[df['bedrooms'] == 0]"
   ]
  },
  {
   "cell_type": "code",
   "execution_count": 9,
   "id": "cd165195-87d4-4913-ad51-f9aee745ee6b",
   "metadata": {},
   "outputs": [
    {
     "data": {
      "text/html": [
       "<div>\n",
       "<style scoped>\n",
       "    .dataframe tbody tr th:only-of-type {\n",
       "        vertical-align: middle;\n",
       "    }\n",
       "\n",
       "    .dataframe tbody tr th {\n",
       "        vertical-align: top;\n",
       "    }\n",
       "\n",
       "    .dataframe thead th {\n",
       "        text-align: right;\n",
       "    }\n",
       "</style>\n",
       "<table border=\"1\" class=\"dataframe\">\n",
       "  <thead>\n",
       "    <tr style=\"text-align: right;\">\n",
       "      <th></th>\n",
       "      <th>date</th>\n",
       "      <th>price</th>\n",
       "      <th>bedrooms</th>\n",
       "      <th>bathrooms</th>\n",
       "      <th>sqft_living</th>\n",
       "      <th>sqft_lot</th>\n",
       "      <th>floors</th>\n",
       "      <th>waterfront</th>\n",
       "      <th>view</th>\n",
       "      <th>condition</th>\n",
       "      <th>sqft_above</th>\n",
       "      <th>sqft_basement</th>\n",
       "      <th>yr_built</th>\n",
       "      <th>yr_renovated</th>\n",
       "      <th>street</th>\n",
       "      <th>city</th>\n",
       "      <th>statezip</th>\n",
       "      <th>country</th>\n",
       "    </tr>\n",
       "  </thead>\n",
       "  <tbody>\n",
       "    <tr>\n",
       "      <th>1905</th>\n",
       "      <td>2014-06-12 00:00:00</td>\n",
       "      <td>1095000.0</td>\n",
       "      <td>0.0</td>\n",
       "      <td>0.0</td>\n",
       "      <td>3064</td>\n",
       "      <td>4764</td>\n",
       "      <td>3.5</td>\n",
       "      <td>0</td>\n",
       "      <td>2</td>\n",
       "      <td>3</td>\n",
       "      <td>3064</td>\n",
       "      <td>0</td>\n",
       "      <td>1990</td>\n",
       "      <td>2009</td>\n",
       "      <td>814 E Howe St</td>\n",
       "      <td>Seattle</td>\n",
       "      <td>WA 98102</td>\n",
       "      <td>USA</td>\n",
       "    </tr>\n",
       "    <tr>\n",
       "      <th>2749</th>\n",
       "      <td>2014-06-24 00:00:00</td>\n",
       "      <td>1295648.0</td>\n",
       "      <td>0.0</td>\n",
       "      <td>0.0</td>\n",
       "      <td>4810</td>\n",
       "      <td>28008</td>\n",
       "      <td>2.0</td>\n",
       "      <td>0</td>\n",
       "      <td>0</td>\n",
       "      <td>3</td>\n",
       "      <td>4810</td>\n",
       "      <td>0</td>\n",
       "      <td>1990</td>\n",
       "      <td>2009</td>\n",
       "      <td>20418 NE 64th Pl</td>\n",
       "      <td>Redmond</td>\n",
       "      <td>WA 98053</td>\n",
       "      <td>USA</td>\n",
       "    </tr>\n",
       "  </tbody>\n",
       "</table>\n",
       "</div>"
      ],
      "text/plain": [
       "                     date      price  bedrooms  bathrooms  sqft_living  \\\n",
       "1905  2014-06-12 00:00:00  1095000.0       0.0        0.0         3064   \n",
       "2749  2014-06-24 00:00:00  1295648.0       0.0        0.0         4810   \n",
       "\n",
       "      sqft_lot  floors  waterfront  view  condition  sqft_above  \\\n",
       "1905      4764     3.5           0     2          3        3064   \n",
       "2749     28008     2.0           0     0          3        4810   \n",
       "\n",
       "      sqft_basement  yr_built  yr_renovated            street     city  \\\n",
       "1905              0      1990          2009     814 E Howe St  Seattle   \n",
       "2749              0      1990          2009  20418 NE 64th Pl  Redmond   \n",
       "\n",
       "      statezip country  \n",
       "1905  WA 98102     USA  \n",
       "2749  WA 98053     USA  "
      ]
     },
     "execution_count": 9,
     "metadata": {},
     "output_type": "execute_result"
    }
   ],
   "source": [
    "df[df['bathrooms'] == 0]"
   ]
  },
  {
   "cell_type": "code",
   "execution_count": 10,
   "id": "9b31b6c2-d04a-496e-a1ad-f07c58a7ac7f",
   "metadata": {},
   "outputs": [],
   "source": [
    "# Droping rows in the columns price, bedrooms, and bathrooms that are equal to 0\n",
    "df = df.query('price != 0 and bedrooms != 0 and bathrooms != 0')"
   ]
  },
  {
   "cell_type": "code",
   "execution_count": 11,
   "id": "be9417fd-04dd-43ec-9450-0941dace2938",
   "metadata": {},
   "outputs": [
    {
     "data": {
      "text/plain": [
       "0"
      ]
     },
     "execution_count": 11,
     "metadata": {},
     "output_type": "execute_result"
    }
   ],
   "source": [
    "# Checking for duplicates\n",
    "df.duplicated().sum()"
   ]
  },
  {
   "cell_type": "markdown",
   "id": "16f1de26-2f4c-44d6-89e1-0d849355cebd",
   "metadata": {},
   "source": [
    "### Subsetting the Data"
   ]
  },
  {
   "cell_type": "code",
   "execution_count": 12,
   "id": "0dfe1408-3c9f-472c-aafd-5b853c0a2f3a",
   "metadata": {},
   "outputs": [
    {
     "data": {
      "text/plain": [
       "state\n",
       "WA    4089\n",
       "Name: count, dtype: int64"
      ]
     },
     "execution_count": 12,
     "metadata": {},
     "output_type": "execute_result"
    }
   ],
   "source": [
    "# Creating a new column 'state'\n",
    "df['state'] = df['statezip'].str.split(' ').str[0]\n",
    "# Checking how many states are in the dataset\n",
    "df['state'].value_counts()"
   ]
  },
  {
   "cell_type": "code",
   "execution_count": 13,
   "id": "ced4fce2-fece-427a-a277-be18edcbde1a",
   "metadata": {},
   "outputs": [
    {
     "data": {
      "text/plain": [
       "Index(['date', 'price', 'bedrooms', 'bathrooms', 'sqft_living', 'sqft_lot',\n",
       "       'floors', 'waterfront', 'view', 'condition', 'sqft_above',\n",
       "       'sqft_basement', 'yr_built', 'yr_renovated', 'street', 'city',\n",
       "       'statezip', 'country', 'state'],\n",
       "      dtype='object')"
      ]
     },
     "execution_count": 13,
     "metadata": {},
     "output_type": "execute_result"
    }
   ],
   "source": [
    "df.columns"
   ]
  },
  {
   "cell_type": "markdown",
   "id": "624c7e36-d026-45bd-b02c-3a93e5dc13a1",
   "metadata": {},
   "source": [
    "Here we observed that all of the entries are in the state of WA in the USA. Therefore we can drop the columns 'statezip', 'country', and 'state'.\n",
    "\n",
    "The column for date is also not very relevant to us since they are all very close. So we can drop that as well.\n",
    "\n",
    "And lastly, we will not be analysing the street, sqft_above, sqft_basement, and yr_renovated, so we can cut those from our subset.\n",
    "\n",
    "After that we're going to have our new dataset."
   ]
  },
  {
   "cell_type": "code",
   "execution_count": 14,
   "id": "f57e9f7c-745d-46fc-9cf4-ed2ab538ae1b",
   "metadata": {},
   "outputs": [
    {
     "name": "stdout",
     "output_type": "stream",
     "text": [
      "<class 'pandas.core.frame.DataFrame'>\n",
      "Index: 4089 entries, 0 to 4139\n",
      "Data columns (total 11 columns):\n",
      " #   Column       Non-Null Count  Dtype  \n",
      "---  ------       --------------  -----  \n",
      " 0   price        4089 non-null   float64\n",
      " 1   bedrooms     4089 non-null   float64\n",
      " 2   bathrooms    4089 non-null   float64\n",
      " 3   sqft_living  4089 non-null   int64  \n",
      " 4   sqft_lot     4089 non-null   int64  \n",
      " 5   floors       4089 non-null   float64\n",
      " 6   waterfront   4089 non-null   int64  \n",
      " 7   view         4089 non-null   int64  \n",
      " 8   condition    4089 non-null   int64  \n",
      " 9   yr_built     4089 non-null   int64  \n",
      " 10  city         4089 non-null   object \n",
      "dtypes: float64(4), int64(6), object(1)\n",
      "memory usage: 383.3+ KB\n"
     ]
    },
    {
     "data": {
      "text/html": [
       "<div>\n",
       "<style scoped>\n",
       "    .dataframe tbody tr th:only-of-type {\n",
       "        vertical-align: middle;\n",
       "    }\n",
       "\n",
       "    .dataframe tbody tr th {\n",
       "        vertical-align: top;\n",
       "    }\n",
       "\n",
       "    .dataframe thead th {\n",
       "        text-align: right;\n",
       "    }\n",
       "</style>\n",
       "<table border=\"1\" class=\"dataframe\">\n",
       "  <thead>\n",
       "    <tr style=\"text-align: right;\">\n",
       "      <th></th>\n",
       "      <th>price</th>\n",
       "      <th>bedrooms</th>\n",
       "      <th>bathrooms</th>\n",
       "      <th>sqft_living</th>\n",
       "      <th>sqft_lot</th>\n",
       "      <th>floors</th>\n",
       "      <th>waterfront</th>\n",
       "      <th>view</th>\n",
       "      <th>condition</th>\n",
       "      <th>yr_built</th>\n",
       "      <th>city</th>\n",
       "    </tr>\n",
       "  </thead>\n",
       "  <tbody>\n",
       "    <tr>\n",
       "      <th>0</th>\n",
       "      <td>3.760000e+05</td>\n",
       "      <td>3.0</td>\n",
       "      <td>2.00</td>\n",
       "      <td>1340</td>\n",
       "      <td>1384</td>\n",
       "      <td>3.0</td>\n",
       "      <td>0</td>\n",
       "      <td>0</td>\n",
       "      <td>3</td>\n",
       "      <td>2008</td>\n",
       "      <td>Seattle</td>\n",
       "    </tr>\n",
       "    <tr>\n",
       "      <th>1</th>\n",
       "      <td>8.000000e+05</td>\n",
       "      <td>4.0</td>\n",
       "      <td>3.25</td>\n",
       "      <td>3540</td>\n",
       "      <td>159430</td>\n",
       "      <td>2.0</td>\n",
       "      <td>0</td>\n",
       "      <td>0</td>\n",
       "      <td>3</td>\n",
       "      <td>2007</td>\n",
       "      <td>Carnation</td>\n",
       "    </tr>\n",
       "    <tr>\n",
       "      <th>2</th>\n",
       "      <td>2.238888e+06</td>\n",
       "      <td>5.0</td>\n",
       "      <td>6.50</td>\n",
       "      <td>7270</td>\n",
       "      <td>130017</td>\n",
       "      <td>2.0</td>\n",
       "      <td>0</td>\n",
       "      <td>0</td>\n",
       "      <td>3</td>\n",
       "      <td>2010</td>\n",
       "      <td>Issaquah</td>\n",
       "    </tr>\n",
       "    <tr>\n",
       "      <th>3</th>\n",
       "      <td>3.240000e+05</td>\n",
       "      <td>3.0</td>\n",
       "      <td>2.25</td>\n",
       "      <td>998</td>\n",
       "      <td>904</td>\n",
       "      <td>2.0</td>\n",
       "      <td>0</td>\n",
       "      <td>0</td>\n",
       "      <td>3</td>\n",
       "      <td>2007</td>\n",
       "      <td>Seattle</td>\n",
       "    </tr>\n",
       "    <tr>\n",
       "      <th>4</th>\n",
       "      <td>5.499000e+05</td>\n",
       "      <td>5.0</td>\n",
       "      <td>2.75</td>\n",
       "      <td>3060</td>\n",
       "      <td>7015</td>\n",
       "      <td>1.0</td>\n",
       "      <td>0</td>\n",
       "      <td>0</td>\n",
       "      <td>5</td>\n",
       "      <td>1979</td>\n",
       "      <td>Seattle</td>\n",
       "    </tr>\n",
       "    <tr>\n",
       "      <th>...</th>\n",
       "      <td>...</td>\n",
       "      <td>...</td>\n",
       "      <td>...</td>\n",
       "      <td>...</td>\n",
       "      <td>...</td>\n",
       "      <td>...</td>\n",
       "      <td>...</td>\n",
       "      <td>...</td>\n",
       "      <td>...</td>\n",
       "      <td>...</td>\n",
       "      <td>...</td>\n",
       "    </tr>\n",
       "    <tr>\n",
       "      <th>4135</th>\n",
       "      <td>3.081667e+05</td>\n",
       "      <td>3.0</td>\n",
       "      <td>1.75</td>\n",
       "      <td>1510</td>\n",
       "      <td>6360</td>\n",
       "      <td>1.0</td>\n",
       "      <td>0</td>\n",
       "      <td>0</td>\n",
       "      <td>4</td>\n",
       "      <td>1954</td>\n",
       "      <td>Seattle</td>\n",
       "    </tr>\n",
       "    <tr>\n",
       "      <th>4136</th>\n",
       "      <td>5.343333e+05</td>\n",
       "      <td>3.0</td>\n",
       "      <td>2.50</td>\n",
       "      <td>1460</td>\n",
       "      <td>7573</td>\n",
       "      <td>2.0</td>\n",
       "      <td>0</td>\n",
       "      <td>0</td>\n",
       "      <td>3</td>\n",
       "      <td>1983</td>\n",
       "      <td>Bellevue</td>\n",
       "    </tr>\n",
       "    <tr>\n",
       "      <th>4137</th>\n",
       "      <td>4.169042e+05</td>\n",
       "      <td>3.0</td>\n",
       "      <td>2.50</td>\n",
       "      <td>3010</td>\n",
       "      <td>7014</td>\n",
       "      <td>2.0</td>\n",
       "      <td>0</td>\n",
       "      <td>0</td>\n",
       "      <td>3</td>\n",
       "      <td>2009</td>\n",
       "      <td>Renton</td>\n",
       "    </tr>\n",
       "    <tr>\n",
       "      <th>4138</th>\n",
       "      <td>2.034000e+05</td>\n",
       "      <td>4.0</td>\n",
       "      <td>2.00</td>\n",
       "      <td>2090</td>\n",
       "      <td>6630</td>\n",
       "      <td>1.0</td>\n",
       "      <td>0</td>\n",
       "      <td>0</td>\n",
       "      <td>3</td>\n",
       "      <td>1974</td>\n",
       "      <td>Seattle</td>\n",
       "    </tr>\n",
       "    <tr>\n",
       "      <th>4139</th>\n",
       "      <td>2.206000e+05</td>\n",
       "      <td>3.0</td>\n",
       "      <td>2.50</td>\n",
       "      <td>1490</td>\n",
       "      <td>8102</td>\n",
       "      <td>2.0</td>\n",
       "      <td>0</td>\n",
       "      <td>0</td>\n",
       "      <td>4</td>\n",
       "      <td>1990</td>\n",
       "      <td>Covington</td>\n",
       "    </tr>\n",
       "  </tbody>\n",
       "</table>\n",
       "<p>4089 rows × 11 columns</p>\n",
       "</div>"
      ],
      "text/plain": [
       "             price  bedrooms  bathrooms  sqft_living  sqft_lot  floors  \\\n",
       "0     3.760000e+05       3.0       2.00         1340      1384     3.0   \n",
       "1     8.000000e+05       4.0       3.25         3540    159430     2.0   \n",
       "2     2.238888e+06       5.0       6.50         7270    130017     2.0   \n",
       "3     3.240000e+05       3.0       2.25          998       904     2.0   \n",
       "4     5.499000e+05       5.0       2.75         3060      7015     1.0   \n",
       "...            ...       ...        ...          ...       ...     ...   \n",
       "4135  3.081667e+05       3.0       1.75         1510      6360     1.0   \n",
       "4136  5.343333e+05       3.0       2.50         1460      7573     2.0   \n",
       "4137  4.169042e+05       3.0       2.50         3010      7014     2.0   \n",
       "4138  2.034000e+05       4.0       2.00         2090      6630     1.0   \n",
       "4139  2.206000e+05       3.0       2.50         1490      8102     2.0   \n",
       "\n",
       "      waterfront  view  condition  yr_built       city  \n",
       "0              0     0          3      2008    Seattle  \n",
       "1              0     0          3      2007  Carnation  \n",
       "2              0     0          3      2010   Issaquah  \n",
       "3              0     0          3      2007    Seattle  \n",
       "4              0     0          5      1979    Seattle  \n",
       "...          ...   ...        ...       ...        ...  \n",
       "4135           0     0          4      1954    Seattle  \n",
       "4136           0     0          3      1983   Bellevue  \n",
       "4137           0     0          3      2009     Renton  \n",
       "4138           0     0          3      1974    Seattle  \n",
       "4139           0     0          4      1990  Covington  \n",
       "\n",
       "[4089 rows x 11 columns]"
      ]
     },
     "execution_count": 14,
     "metadata": {},
     "output_type": "execute_result"
    }
   ],
   "source": [
    "# Subsetting the data\n",
    "df = df[[#'date', \n",
    "            'price', 'bedrooms', 'bathrooms', 'sqft_living', 'sqft_lot',\n",
    "            'floors', 'waterfront', 'view', 'condition', \n",
    "            #'sqft_above', 'sqft_basement', 'yr_renovated', \n",
    "            'yr_built', 'city'\n",
    "            #'street','statezip', 'country', 'state'\n",
    "            ]]\n",
    "df.info()\n",
    "df"
   ]
  },
  {
   "cell_type": "code",
   "execution_count": 15,
   "id": "9cfff35d-cb30-456f-af66-74a462837f9b",
   "metadata": {},
   "outputs": [
    {
     "name": "stdout",
     "output_type": "stream",
     "text": [
      "File C:\\Users\\Vitoria\\OneDrive\\Estudos e Profissão\\Data Analysis (OneDrive)\\Learning_Projects\\usa_houses_clean.csv already exists.\n"
     ]
    }
   ],
   "source": [
    "# Exporting the dataset to csv\n",
    "file_path = r\"C:\\Users\\Vitoria\\OneDrive\\Estudos e Profissão\\Data Analysis (OneDrive)\\Learning_Projects\\usa_houses_clean.csv\"\n",
    "if not os.path.exists(file_path):\n",
    "    df.to_csv(file_path)\n",
    "    print(f'File exported to {file_path}.')\n",
    "else:\n",
    "    print(f'File {file_path} already exists.')"
   ]
  },
  {
   "cell_type": "markdown",
   "id": "f320e367-e184-4bb7-9b51-975d2b4f7919",
   "metadata": {},
   "source": [
    "## Exploratory Data Analysis <a name=\"eda\"></a>\n",
    "Perform various analyses to understand the data better. "
   ]
  },
  {
   "cell_type": "markdown",
   "id": "511f213e-3803-4729-97e5-f257420a0f7b",
   "metadata": {},
   "source": [
    "### Univariate Analysis\n",
    "Explore each variable individually.\n",
    "\n",
    "Checking for: summary statistics, visualizations of important variables, and outliers."
   ]
  },
  {
   "cell_type": "code",
   "execution_count": 16,
   "id": "01899880-65e6-4ba2-b27e-95a9fe5e14a5",
   "metadata": {},
   "outputs": [
    {
     "data": {
      "text/html": [
       "<div>\n",
       "<style scoped>\n",
       "    .dataframe tbody tr th:only-of-type {\n",
       "        vertical-align: middle;\n",
       "    }\n",
       "\n",
       "    .dataframe tbody tr th {\n",
       "        vertical-align: top;\n",
       "    }\n",
       "\n",
       "    .dataframe thead th {\n",
       "        text-align: right;\n",
       "    }\n",
       "</style>\n",
       "<table border=\"1\" class=\"dataframe\">\n",
       "  <thead>\n",
       "    <tr style=\"text-align: right;\">\n",
       "      <th></th>\n",
       "      <th>price</th>\n",
       "      <th>bedrooms</th>\n",
       "      <th>bathrooms</th>\n",
       "      <th>sqft_living</th>\n",
       "      <th>sqft_lot</th>\n",
       "      <th>floors</th>\n",
       "      <th>waterfront</th>\n",
       "      <th>view</th>\n",
       "      <th>condition</th>\n",
       "      <th>yr_built</th>\n",
       "      <th>city</th>\n",
       "    </tr>\n",
       "  </thead>\n",
       "  <tbody>\n",
       "    <tr>\n",
       "      <th>count</th>\n",
       "      <td>4089.00</td>\n",
       "      <td>4089.00</td>\n",
       "      <td>4089.00</td>\n",
       "      <td>4089.00</td>\n",
       "      <td>4089.00</td>\n",
       "      <td>4089.00</td>\n",
       "      <td>4089.00</td>\n",
       "      <td>4089.00</td>\n",
       "      <td>4089.00</td>\n",
       "      <td>4089.00</td>\n",
       "      <td>4089</td>\n",
       "    </tr>\n",
       "    <tr>\n",
       "      <th>unique</th>\n",
       "      <td>NaN</td>\n",
       "      <td>NaN</td>\n",
       "      <td>NaN</td>\n",
       "      <td>NaN</td>\n",
       "      <td>NaN</td>\n",
       "      <td>NaN</td>\n",
       "      <td>NaN</td>\n",
       "      <td>NaN</td>\n",
       "      <td>NaN</td>\n",
       "      <td>NaN</td>\n",
       "      <td>43</td>\n",
       "    </tr>\n",
       "    <tr>\n",
       "      <th>top</th>\n",
       "      <td>NaN</td>\n",
       "      <td>NaN</td>\n",
       "      <td>NaN</td>\n",
       "      <td>NaN</td>\n",
       "      <td>NaN</td>\n",
       "      <td>NaN</td>\n",
       "      <td>NaN</td>\n",
       "      <td>NaN</td>\n",
       "      <td>NaN</td>\n",
       "      <td>NaN</td>\n",
       "      <td>Seattle</td>\n",
       "    </tr>\n",
       "    <tr>\n",
       "      <th>freq</th>\n",
       "      <td>NaN</td>\n",
       "      <td>NaN</td>\n",
       "      <td>NaN</td>\n",
       "      <td>NaN</td>\n",
       "      <td>NaN</td>\n",
       "      <td>NaN</td>\n",
       "      <td>NaN</td>\n",
       "      <td>NaN</td>\n",
       "      <td>NaN</td>\n",
       "      <td>NaN</td>\n",
       "      <td>1402</td>\n",
       "    </tr>\n",
       "    <tr>\n",
       "      <th>mean</th>\n",
       "      <td>559376.29</td>\n",
       "      <td>3.40</td>\n",
       "      <td>2.16</td>\n",
       "      <td>2135.05</td>\n",
       "      <td>14675.77</td>\n",
       "      <td>1.51</td>\n",
       "      <td>0.01</td>\n",
       "      <td>0.24</td>\n",
       "      <td>3.45</td>\n",
       "      <td>1970.82</td>\n",
       "      <td>NaN</td>\n",
       "    </tr>\n",
       "    <tr>\n",
       "      <th>std</th>\n",
       "      <td>583975.35</td>\n",
       "      <td>0.90</td>\n",
       "      <td>0.78</td>\n",
       "      <td>948.52</td>\n",
       "      <td>35973.12</td>\n",
       "      <td>0.53</td>\n",
       "      <td>0.08</td>\n",
       "      <td>0.78</td>\n",
       "      <td>0.68</td>\n",
       "      <td>29.84</td>\n",
       "      <td>NaN</td>\n",
       "    </tr>\n",
       "    <tr>\n",
       "      <th>min</th>\n",
       "      <td>7800.00</td>\n",
       "      <td>1.00</td>\n",
       "      <td>0.75</td>\n",
       "      <td>370.00</td>\n",
       "      <td>638.00</td>\n",
       "      <td>1.00</td>\n",
       "      <td>0.00</td>\n",
       "      <td>0.00</td>\n",
       "      <td>1.00</td>\n",
       "      <td>1900.00</td>\n",
       "      <td>NaN</td>\n",
       "    </tr>\n",
       "    <tr>\n",
       "      <th>25%</th>\n",
       "      <td>325000.00</td>\n",
       "      <td>3.00</td>\n",
       "      <td>1.75</td>\n",
       "      <td>1460.00</td>\n",
       "      <td>5000.00</td>\n",
       "      <td>1.00</td>\n",
       "      <td>0.00</td>\n",
       "      <td>0.00</td>\n",
       "      <td>3.00</td>\n",
       "      <td>1951.00</td>\n",
       "      <td>NaN</td>\n",
       "    </tr>\n",
       "    <tr>\n",
       "      <th>50%</th>\n",
       "      <td>464500.00</td>\n",
       "      <td>3.00</td>\n",
       "      <td>2.25</td>\n",
       "      <td>1980.00</td>\n",
       "      <td>7665.00</td>\n",
       "      <td>1.50</td>\n",
       "      <td>0.00</td>\n",
       "      <td>0.00</td>\n",
       "      <td>3.00</td>\n",
       "      <td>1976.00</td>\n",
       "      <td>NaN</td>\n",
       "    </tr>\n",
       "    <tr>\n",
       "      <th>75%</th>\n",
       "      <td>660000.00</td>\n",
       "      <td>4.00</td>\n",
       "      <td>2.50</td>\n",
       "      <td>2610.00</td>\n",
       "      <td>10945.00</td>\n",
       "      <td>2.00</td>\n",
       "      <td>0.00</td>\n",
       "      <td>0.00</td>\n",
       "      <td>4.00</td>\n",
       "      <td>1997.00</td>\n",
       "      <td>NaN</td>\n",
       "    </tr>\n",
       "    <tr>\n",
       "      <th>max</th>\n",
       "      <td>26590000.00</td>\n",
       "      <td>8.00</td>\n",
       "      <td>6.75</td>\n",
       "      <td>10040.00</td>\n",
       "      <td>1074218.00</td>\n",
       "      <td>3.50</td>\n",
       "      <td>1.00</td>\n",
       "      <td>4.00</td>\n",
       "      <td>5.00</td>\n",
       "      <td>2014.00</td>\n",
       "      <td>NaN</td>\n",
       "    </tr>\n",
       "  </tbody>\n",
       "</table>\n",
       "</div>"
      ],
      "text/plain": [
       "             price  bedrooms  bathrooms  sqft_living   sqft_lot  floors  \\\n",
       "count      4089.00   4089.00    4089.00      4089.00    4089.00 4089.00   \n",
       "unique         NaN       NaN        NaN          NaN        NaN     NaN   \n",
       "top            NaN       NaN        NaN          NaN        NaN     NaN   \n",
       "freq           NaN       NaN        NaN          NaN        NaN     NaN   \n",
       "mean     559376.29      3.40       2.16      2135.05   14675.77    1.51   \n",
       "std      583975.35      0.90       0.78       948.52   35973.12    0.53   \n",
       "min        7800.00      1.00       0.75       370.00     638.00    1.00   \n",
       "25%      325000.00      3.00       1.75      1460.00    5000.00    1.00   \n",
       "50%      464500.00      3.00       2.25      1980.00    7665.00    1.50   \n",
       "75%      660000.00      4.00       2.50      2610.00   10945.00    2.00   \n",
       "max    26590000.00      8.00       6.75     10040.00 1074218.00    3.50   \n",
       "\n",
       "        waterfront    view  condition  yr_built     city  \n",
       "count      4089.00 4089.00    4089.00   4089.00     4089  \n",
       "unique         NaN     NaN        NaN       NaN       43  \n",
       "top            NaN     NaN        NaN       NaN  Seattle  \n",
       "freq           NaN     NaN        NaN       NaN     1402  \n",
       "mean          0.01    0.24       3.45   1970.82      NaN  \n",
       "std           0.08    0.78       0.68     29.84      NaN  \n",
       "min           0.00    0.00       1.00   1900.00      NaN  \n",
       "25%           0.00    0.00       3.00   1951.00      NaN  \n",
       "50%           0.00    0.00       3.00   1976.00      NaN  \n",
       "75%           0.00    0.00       4.00   1997.00      NaN  \n",
       "max           1.00    4.00       5.00   2014.00      NaN  "
      ]
     },
     "execution_count": 16,
     "metadata": {},
     "output_type": "execute_result"
    }
   ],
   "source": [
    "# View summary statistics\n",
    "pd.options.display.float_format = '{:.2f}'.format\n",
    "df.describe(include='all')"
   ]
  },
  {
   "cell_type": "code",
   "execution_count": 17,
   "id": "760790c3-cef9-4863-972b-da8719fb52eb",
   "metadata": {},
   "outputs": [
    {
     "data": {
      "text/plain": [
       "city\n",
       "Seattle              0.34\n",
       "Renton               0.06\n",
       "Bellevue             0.06\n",
       "Redmond              0.05\n",
       "Kirkland             0.04\n",
       "Kent                 0.04\n",
       "Auburn               0.04\n",
       "Issaquah             0.04\n",
       "Sammamish            0.04\n",
       "Federal Way          0.03\n",
       "Shoreline            0.03\n",
       "Woodinville          0.02\n",
       "Maple Valley         0.02\n",
       "Mercer Island        0.02\n",
       "Snoqualmie           0.02\n",
       "Burien               0.02\n",
       "Kenmore              0.01\n",
       "Des Moines           0.01\n",
       "North Bend           0.01\n",
       "Duvall               0.01\n",
       "Covington            0.01\n",
       "Lake Forest Park     0.01\n",
       "Newcastle            0.01\n",
       "Bothell              0.01\n",
       "Tukwila              0.01\n",
       "SeaTac               0.01\n",
       "Vashon               0.01\n",
       "Enumclaw             0.01\n",
       "Carnation            0.00\n",
       "Normandy Park        0.00\n",
       "Medina               0.00\n",
       "Fall City            0.00\n",
       "Clyde Hill           0.00\n",
       "Black Diamond        0.00\n",
       "Pacific              0.00\n",
       "Yarrow Point         0.00\n",
       "Ravensdale           0.00\n",
       "Preston              0.00\n",
       "Milton               0.00\n",
       "Skykomish            0.00\n",
       "Snoqualmie Pass      0.00\n",
       "Beaux Arts Village   0.00\n",
       "Algona               0.00\n",
       "Name: proportion, dtype: float64"
      ]
     },
     "execution_count": 17,
     "metadata": {},
     "output_type": "execute_result"
    }
   ],
   "source": [
    "# View summary statistics for categorical variables (proportions)\n",
    "df['city'].value_counts(normalize=True)"
   ]
  },
  {
   "cell_type": "code",
   "execution_count": 18,
   "id": "08db9d60-d84f-4c1f-b7c1-956f1a02b543",
   "metadata": {},
   "outputs": [
    {
     "data": {
      "image/png": "[encoded data removed]",
      "text/plain": [
       "<Figure size 1000x600 with 1 Axes>"
      ]
     },
     "metadata": {},
     "output_type": "display_data"
    }
   ],
   "source": [
    "# Show the distribution of the price column in a histogram\n",
    "plt.figure(figsize=(10, 6))\n",
    "sns.histplot(data=df, x='price', bins=50)\n",
    "plt.title('Histogram of Price')\n",
    "plt.xlabel('Price')\n",
    "plt.ylabel('Frequency')\n",
    "plt.show()"
   ]
  },
  {
   "cell_type": "code",
   "execution_count": 19,
   "id": "6a3db632-db01-4f15-9d43-f9d30aa2ccf4",
   "metadata": {},
   "outputs": [
    {
     "data": {
      "image/png": "[encoded data removed]",
      "text/plain": [
       "<Figure size 1000x400 with 1 Axes>"
      ]
     },
     "metadata": {},
     "output_type": "display_data"
    }
   ],
   "source": [
    "# Show the distribution of the price column in a boxplot\n",
    "plt.figure(figsize=(10, 4))\n",
    "sns.boxplot(x=df['price'])\n",
    "plt.title('Box Plot of Price')\n",
    "plt.show()"
   ]
  },
  {
   "cell_type": "code",
   "execution_count": 20,
   "id": "cfb0b085-8dd1-4e3c-a9b3-dd0a3ad71b83",
   "metadata": {},
   "outputs": [
    {
     "name": "stdout",
     "output_type": "stream",
     "text": [
      "Q1 = 325000.0\n",
      "Q3 = 660000.0\n",
      "Upper bound = 1162500.0\n",
      "Number of positive outliers: 215\n",
      "Number of negative outliers: 0\n"
     ]
    }
   ],
   "source": [
    "# Checking for outliers\n",
    "\n",
    "# Calculate the first and third quartiles (Q1 and Q3)\n",
    "Q1 = df['price'].quantile(0.25)\n",
    "Q3 = df['price'].quantile(0.75)\n",
    "\n",
    "print(f\"Q1 = {Q1}\")\n",
    "print(f\"Q3 = {Q3}\")\n",
    "\n",
    "# Calculate the Interquartile Range (IQR)\n",
    "IQR = Q3 - Q1\n",
    "\n",
    "# Define the lower and upper bounds for outliers\n",
    "lower_bound = Q1 - 1.5 * IQR\n",
    "upper_bound = Q3 + 1.5 * IQR\n",
    "\n",
    "print(f\"Upper bound = {upper_bound}\")\n",
    "\n",
    "# Identify positive and negative outliers\n",
    "positive_outliers = df[df['price'] > upper_bound]\n",
    "negative_outliers = df[df['price'] < lower_bound]\n",
    "\n",
    "# Count the number of positive and negative outliers\n",
    "num_positive_outliers = positive_outliers.shape[0]\n",
    "num_negative_outliers = negative_outliers.shape[0]\n",
    "\n",
    "print(f\"Number of positive outliers: {num_positive_outliers}\")\n",
    "print(f\"Number of negative outliers: {num_negative_outliers}\")\n"
   ]
  },
  {
   "cell_type": "code",
   "execution_count": 21,
   "id": "3628cdc2-9f72-4a93-8211-eba733bfb8ad",
   "metadata": {},
   "outputs": [
    {
     "name": "stdout",
     "output_type": "stream",
     "text": [
      "         price  bedrooms  bathrooms  sqft_living  sqft_lot  floors  \\\n",
      "0    376000.00      3.00       2.00         1340      1384    3.00   \n",
      "1    800000.00      4.00       3.25         3540    159430    2.00   \n",
      "3    324000.00      3.00       2.25          998       904    2.00   \n",
      "4    549900.00      5.00       2.75         3060      7015    1.00   \n",
      "5    320000.00      3.00       2.50         2130      6969    2.00   \n",
      "...        ...       ...        ...          ...       ...     ...   \n",
      "4135 308166.67      3.00       1.75         1510      6360    1.00   \n",
      "4136 534333.33      3.00       2.50         1460      7573    2.00   \n",
      "4137 416904.17      3.00       2.50         3010      7014    2.00   \n",
      "4138 203400.00      4.00       2.00         2090      6630    1.00   \n",
      "4139 220600.00      3.00       2.50         1490      8102    2.00   \n",
      "\n",
      "      waterfront  view  condition  yr_built          city  \n",
      "0              0     0          3      2008       Seattle  \n",
      "1              0     0          3      2007     Carnation  \n",
      "3              0     0          3      2007       Seattle  \n",
      "4              0     0          5      1979       Seattle  \n",
      "5              0     0          3      2003  Maple Valley  \n",
      "...          ...   ...        ...       ...           ...  \n",
      "4135           0     0          4      1954       Seattle  \n",
      "4136           0     0          3      1983      Bellevue  \n",
      "4137           0     0          3      2009        Renton  \n",
      "4138           0     0          3      1974       Seattle  \n",
      "4139           0     0          4      1990     Covington  \n",
      "\n",
      "[3874 rows x 11 columns]\n"
     ]
    }
   ],
   "source": [
    "df_no_price_outliers = df.query('price < 1162500')\n",
    "print(df_no_price_outliers)"
   ]
  },
  {
   "cell_type": "code",
   "execution_count": 22,
   "id": "a97dbdf2-3fe0-4a39-972b-0c232a0d2301",
   "metadata": {
    "scrolled": true
   },
   "outputs": [
    {
     "data": {
      "image/png": "[encoded data removed]",
      "text/plain": [
       "<Figure size 1000x600 with 1 Axes>"
      ]
     },
     "metadata": {},
     "output_type": "display_data"
    }
   ],
   "source": [
    "# Create a histogram for the 'price' column after removing the outliers\n",
    "sns.set_style('whitegrid')\n",
    "plt.figure(figsize=(10, 6))\n",
    "sns.histplot(data=df_no_price_outliers, x='price', bins=50)\n",
    "\n",
    "# Add titles and labels\n",
    "plt.title('Histogram of Price (Without Outliers)')\n",
    "plt.xlabel('Price (millions)')\n",
    "plt.ylabel('Frequency')\n",
    "\n",
    "# Show the plot\n",
    "plt.show()"
   ]
  },
  {
   "cell_type": "code",
   "execution_count": 23,
   "id": "f4ace350-a34b-4585-9115-ec1d63095000",
   "metadata": {},
   "outputs": [
    {
     "data": {
      "image/png": "[encoded data removed]",
      "text/plain": [
       "<Figure size 1000x600 with 1 Axes>"
      ]
     },
     "metadata": {},
     "output_type": "display_data"
    }
   ],
   "source": [
    "# Checking the distribution of the prices after being placed into bins\n",
    "\n",
    "# Create a 'price categories' column with bins to better analyze the prices\n",
    "bins_edges = [0, 200000, 400000, 600000, 800000, 1000000, 27000000]\n",
    "bins_labels = ['0-200k', '200-400k', '400-600k', '600-800k', '800-1000k', '+1000k']\n",
    "df['price_bins'] = pd.cut(df['price'], bins=bins_edges, labels=bins_labels)\n",
    "\n",
    "# Calculate the percentage for each bin\n",
    "bin_counts = df['price_bins'].value_counts(sort=False)\n",
    "bin_percentages = (bin_counts / bin_counts.sum()) * 100\n",
    "\n",
    "# Plot the histogram of price_bins in percentage\n",
    "plt.figure(figsize=(10, 6))\n",
    "ax = sns.histplot(data=df, x='price_bins', stat='percent', bins=len(bins_labels), shrink=0.9)\n",
    "\n",
    "# Annotate percentages on the bars\n",
    "for p in ax.patches:\n",
    "    percentage = f'{p.get_height():.1f}%'  # Format the percentage\n",
    "    ax.annotate(percentage, \n",
    "                (p.get_x() + p.get_width() / 2., p.get_height()), \n",
    "                ha='center', va='bottom', fontsize=10, color='black')\n",
    "\n",
    "# Add titles and labels\n",
    "plt.title('Histogram of Price')\n",
    "plt.xlabel('Price (millions)')\n",
    "plt.ylabel('Percentage')\n",
    "\n",
    "# Show the plot\n",
    "plt.show()"
   ]
  },
  {
   "cell_type": "code",
   "execution_count": 24,
   "id": "60b2ac47-66ea-4076-af6a-3552b99ce164",
   "metadata": {
    "scrolled": true
   },
   "outputs": [
    {
     "name": "stdout",
     "output_type": "stream",
     "text": [
      "city\n",
      "Medina          2046559.09\n",
      "Clyde Hill      1678925.00\n",
      "Yarrow Point    1194837.50\n",
      "Mercer Island   1169036.56\n",
      "Bellevue         878531.33\n",
      "Name: price, dtype: float64\n"
     ]
    }
   ],
   "source": [
    "# Checking the top 5 cities with the highest house prices\n",
    "avg_prices = df.groupby('city')['price'].mean()\n",
    "print(avg_prices.sort_values(ascending=False).head())"
   ]
  },
  {
   "cell_type": "code",
   "execution_count": 25,
   "id": "e320fcd1-e0f3-4e62-819c-cc3d96d583d1",
   "metadata": {
    "scrolled": true
   },
   "outputs": [
    {
     "data": {
      "text/plain": [
       "city\n",
       "Seattle     1402\n",
       "Renton       259\n",
       "Bellevue     255\n",
       "Redmond      208\n",
       "Kirkland     166\n",
       "Name: count, dtype: int64"
      ]
     },
     "execution_count": 25,
     "metadata": {},
     "output_type": "execute_result"
    }
   ],
   "source": [
    "# Checking the top 5 cities with the most houses\n",
    "df['city'].value_counts().head()"
   ]
  },
  {
   "cell_type": "markdown",
   "id": "7fc34ca3-9a0f-45e7-baed-20e83c6f6a08",
   "metadata": {},
   "source": [
    "### Bivariate and Multivariate Analysis\n",
    "\n",
    "Things to check:\n",
    "- Correlation: For numerical data, use correlation matrices or scatter plots to see how variables relate.\n",
    "- Group Comparisons: For categorical vs. numerical data, use box plots or violin plots to compare distributions.\n",
    "- Cross Tabulations: For categorical vs. categorical data, use contingency tables to explore relationships.\n"
   ]
  },
  {
   "cell_type": "code",
   "execution_count": 26,
   "id": "54983b5f-2324-4913-a926-cc06f089375f",
   "metadata": {},
   "outputs": [
    {
     "name": "stdout",
     "output_type": "stream",
     "text": [
      "             price  bedrooms  bathrooms  sqft_living\n",
      "price         1.00      0.20       0.33         0.43\n",
      "bedrooms      0.20      1.00       0.54         0.60\n",
      "bathrooms     0.33      0.54       1.00         0.76\n",
      "sqft_living   0.43      0.60       0.76         1.00\n"
     ]
    }
   ],
   "source": [
    "# Calculate the correlation matrix for price, bedrooms, bathrooms, and sqft_living\n",
    "correlation_matrix = df[['price', 'bedrooms', 'bathrooms', 'sqft_living']].corr()\n",
    "\n",
    "# Display the correlation matrix\n",
    "print(correlation_matrix)"
   ]
  },
  {
   "cell_type": "code",
   "execution_count": 27,
   "id": "81b0bd1b-e4ea-442f-9448-759924409005",
   "metadata": {},
   "outputs": [
    {
     "data": {
      "image/png": "[encoded data removed]",
      "text/plain": [
       "<Figure size 800x600 with 2 Axes>"
      ]
     },
     "metadata": {},
     "output_type": "display_data"
    }
   ],
   "source": [
    "# Create a heatmap of the correlation matrix\n",
    "plt.figure(figsize=(8, 6))\n",
    "sns.heatmap(correlation_matrix, annot=True, cmap='coolwarm', vmin=-1, vmax=1)\n",
    "plt.title('Correlation Matrix')\n",
    "plt.show()"
   ]
  },
  {
   "cell_type": "code",
   "execution_count": 28,
   "id": "7f14652a-17f9-4d0d-9e75-16bc79ce6bd2",
   "metadata": {},
   "outputs": [
    {
     "data": {
      "text/plain": [
       "Text(0.5, 1.0, 'Box Plot of Price by Waterfront')"
      ]
     },
     "execution_count": 28,
     "metadata": {},
     "output_type": "execute_result"
    },
    {
     "data": {
      "image/png": "[encoded data removed]",
      "text/plain": [
       "<Figure size 800x600 with 1 Axes>"
      ]
     },
     "metadata": {},
     "output_type": "display_data"
    }
   ],
   "source": [
    "# Check price vs waterfront\n",
    "plt.figure(figsize=(8, 6))\n",
    "sns.boxplot(x='waterfront', y='price', data=df_no_price_outliers)\n",
    "plt.title('Box Plot of Price by Waterfront')"
   ]
  },
  {
   "cell_type": "code",
   "execution_count": 29,
   "id": "4838648a-c4a8-4f6f-8c62-94f5dc6febf2",
   "metadata": {},
   "outputs": [
    {
     "name": "stdout",
     "output_type": "stream",
     "text": [
      "The average price of a houses in WA is: \n",
      "- Not a waterfront property: US$552271.53 \n",
      "- Waterfront property: US$1589821.43\n",
      "We can see a price increase of aproximatelly 187.87%\n"
     ]
    }
   ],
   "source": [
    "avg_waterfront_prices = df.query('waterfront == 1')['price'].mean()\n",
    "avg_no_waterfront_prices = df.query('waterfront == 0')['price'].mean()\n",
    "print(f'The average price of a houses in WA is: \\n- Not a waterfront property: US${avg_no_waterfront_prices:.2f} \\n- Waterfront property: US${avg_waterfront_prices:.2f}')\n",
    "print(f'We can see a price increase of aproximatelly {(avg_waterfront_prices - avg_no_waterfront_prices) / avg_no_waterfront_prices * 100:.2f}%')"
   ]
  },
  {
   "cell_type": "code",
   "execution_count": 30,
   "id": "0335a4a9-04a3-402f-a922-fb7c2a704016",
   "metadata": {},
   "outputs": [
    {
     "name": "stdout",
     "output_type": "stream",
     "text": [
      "The average price of a houses in WA is: \n",
      "- Property without a view: US$516542.80 \n",
      "- Property with a view: US$899151.83\n",
      "We can see a price increase of aproximatelly 74.07%\n"
     ]
    }
   ],
   "source": [
    "# Check price vs view\n",
    "avg_view_prices = df.query('view == 1')['price'].mean()\n",
    "avg_no_view_prices = df.query('view == 0')['price'].mean()\n",
    "print(f'The average price of a houses in WA is: \\n- Property without a view: US${avg_no_view_prices:.2f} \\n- Property with a view: US${avg_view_prices:.2f}')\n",
    "print(f'We can see a price increase of aproximatelly {(avg_view_prices - avg_no_view_prices) / avg_no_view_prices * 100:.2f}%')"
   ]
  },
  {
   "cell_type": "code",
   "execution_count": 31,
   "id": "dcacb6a4-df0a-4211-a927-afc0d1398dda",
   "metadata": {},
   "outputs": [
    {
     "data": {
      "text/plain": [
       "Text(0.5, 1.0, 'House Prices by Condition')"
      ]
     },
     "execution_count": 31,
     "metadata": {},
     "output_type": "execute_result"
    },
    {
     "data": {
      "image/png": "[encoded data removed]",
      "text/plain": [
       "<Figure size 640x480 with 1 Axes>"
      ]
     },
     "metadata": {},
     "output_type": "display_data"
    }
   ],
   "source": [
    "# Check price vs condition\n",
    "sns.barplot(x='condition', y='price', data=df)\n",
    "plt.title('House Prices by Condition')"
   ]
  },
  {
   "cell_type": "code",
   "execution_count": 32,
   "id": "c0a522fd-0f84-4dfa-817e-efd7cd24246a",
   "metadata": {},
   "outputs": [
    {
     "name": "stdout",
     "output_type": "stream",
     "text": [
      "condition\n",
      "1   316960.00\n",
      "2   339613.85\n",
      "3   555749.15\n",
      "4   545089.87\n",
      "5   641754.48\n",
      "Name: price, dtype: float64\n"
     ]
    }
   ],
   "source": [
    "avg_price_condition = df['price'].groupby(df['condition']).mean()\n",
    "print(avg_price_condition)"
   ]
  },
  {
   "cell_type": "code",
   "execution_count": 34,
   "id": "b5188a9e-19b3-417a-b045-3c0a7f2e240c",
   "metadata": {},
   "outputs": [
    {
     "name": "stdout",
     "output_type": "stream",
     "text": [
      "0.00\n",
      "7.15\n",
      "63.64\n",
      "-1.92\n",
      "17.73\n"
     ]
    }
   ],
   "source": [
    "# Price increase from each condition to the previous one\n",
    "price = 316960.00\n",
    "for p in avg_price_condition:\n",
    "    percentage_condition = ((p- price)/ price * 100)\n",
    "    price = p\n",
    "    print(f'{percentage_condition:.2f}')"
   ]
  },
  {
   "cell_type": "code",
   "execution_count": 35,
   "id": "ffb27e2f-78bc-4963-ae12-ddc5fbd7c50d",
   "metadata": {},
   "outputs": [
    {
     "name": "stdout",
     "output_type": "stream",
     "text": [
      "0.00\n",
      "7.15\n",
      "75.34\n",
      "71.97\n",
      "102.47\n"
     ]
    }
   ],
   "source": [
    "# Price increase from each condition comparing to condition 1\n",
    "price = 316960.00\n",
    "for p in avg_price_condition:\n",
    "    percentage_condition = ((p- price)/ price * 100)\n",
    "    print(f'{percentage_condition:.2f}')"
   ]
  },
  {
   "cell_type": "markdown",
   "id": "c5b9bb1a-489e-48a2-8e5f-b07b816765e8",
   "metadata": {},
   "source": [
    "## Summary and Insights <a name=\"summary\"></a>\n",
    "\n",
    "After analysing the dataset we can finally answer the questions set in the beginning of our exploration.\n",
    "\n",
    "### What is the distribution of the house prices?\n",
    "- Around one third of the houses (34.4%) have prices in the 200-400k range\n",
    "- Only 4.4% of the houses have prices below 200k\n",
    "- Only 7.5% of the houses have prices higher than 1 million. And 7.2% of the houses have prices that ranges from 800k to 1 million.\n",
    "- Meaning that **80.9%** of the houses have a **price between 200k and 800k**.\n",
    "\n",
    "### How many houses have a price that is a lot higher or lower than the rest (outliers)?\n",
    "- Considering an upper bound of US$1162500.00. The dataset has 215 positive outliers.\n",
    "- Meaning that **there are 215 houses with a price that is a lot higher than the rest**, this makes 5.26% of the dataset.\n",
    "n\n",
    "### What are the top 5 cities with the highest house prices in MA? And the top five cities with the most houses?\n",
    "The **top five cities with the highest house prices** are:   \n",
    "- Medina          (2,046,559.09)\n",
    "- Clyde Hill      (1,678,925.00)\n",
    "- Yarrow Point    (1,194,837.50)\n",
    "- Mercer Island   (1,169,036.56)\n",
    "- Bellevue        (878,531.33)\n",
    "\n",
    "And the **top five cities with the highest number of houses** are:\n",
    "- Seattle     (1402)\n",
    "- Renton       (259)\n",
    "- Bellevue     (255)\n",
    "- Redmond      (208)\n",
    "- Kirkland     (166)\n",
    "\n",
    "### How do property characteristics like bedrooms, bathrooms, and sqft_living correlate with price?\n",
    "According to the correlation matrix we can see that:\n",
    "- Bedrooms and Bathrooms have a weak positive correlation with price (0.2 and 0.33, respectively)\n",
    "- And the house size (sqft_living) has a moderate positive correlation with the house prices (0.43)\n",
    "From that we can conclude that **the most influent factor on the house prices is the square footage of the space** (when analysing bedrooms, bathrooms, and sqft living). \n",
    "\n",
    "### How does waterfront, view, and condition impacts the price?\n",
    "\n",
    "1. Waterfront\n",
    "   \n",
    "   The average price of a houses in WA is: \n",
    "    - Not a waterfront property: US 552271.53\n",
    "    - Waterfront property: US 1589821.43\n",
    "\n",
    "    We can see a **price increase of aproximatelly 187.87%**\n",
    "\n",
    "3. View\n",
    "   \n",
    "   The average price of a houses in WA is: \n",
    "    - Property without a view: US 516542.80 \n",
    "    - Property with a view: US 899151.83\n",
    "    \n",
    "    We can see a **price increase of aproximatelly 74.07%**\n",
    "   \n",
    "5. Condition\n",
    "\n",
    "   The average price per property condition is:\n",
    "   \n",
    "   (condition - price)\n",
    "    - 1 - 316 960.00\n",
    "    - 2 - 339 613.85\n",
    "    - 3 - 555 749.15\n",
    "    - 4 - 545 089.87\n",
    "    - 5 - 641 754.48\n",
    "\n",
    "\n",
    "   Here we can see that the biggest jump in price happens from **condition 2 to 3 with a 63.4% increase**.\n",
    "\n",
    "   And overall the **difference in the average price from condition 1 to 5 is 102%**."
   ]
  }
 ],
 "metadata": {
  "kernelspec": {
   "display_name": "Python 3 (ipykernel)",
   "language": "python",
   "name": "python3"
  },
  "language_info": {
   "codemirror_mode": {
    "name": "ipython",
    "version": 3
   },
   "file_extension": ".py",
   "mimetype": "text/x-python",
   "name": "python",
   "nbconvert_exporter": "python",
   "pygments_lexer": "ipython3",
   "version": "3.12.2"
  }
 },
 "nbformat": 4,
 "nbformat_minor": 5
}
